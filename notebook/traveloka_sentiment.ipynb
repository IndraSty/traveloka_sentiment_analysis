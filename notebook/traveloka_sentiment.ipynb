{
  "cells": [
    {
      "cell_type": "markdown",
      "source": [
        "# Traveloka Sentiment Analysis\n",
        "\n",
        "![Traveloka Logo](https://console.kr-asia.com/wp-content/uploads/2020/12/traveloka.jpg)\n",
        "\n",
        "![Python](https://img.shields.io/badge/Python-3.12-blue)\n",
        "![Machine Learning](https://img.shields.io/badge/Machine%20Learning-Sentiment%20Analysis-orange)\n",
        "![Scikit-Learn](https://img.shields.io/badge/Scikit--Learn-Modeling-yellow)\n",
        "![Status](https://img.shields.io/badge/Status-Completed-brightgreen)\n",
        "\n",
        "---\n",
        "\n",
        "### 👤 My Identity\n",
        "- **Name** : Indra Styawan  \n",
        "- **Role** : Data Science  \n",
        "- **Domicile** : Yogyakarta, Indonesia  \n",
        "- **Email** : indrastyawan0925@gmail.com  \n",
        "- **LinkedIn** : www.linkedin.com/in/indrastyawan25\n",
        "\n",
        "---\n",
        "\n",
        "<h1><center>📈 Analysis of App's Review on Traveloka Application </center></h1>\n",
        "\n",
        "### 📝 Introduction\n",
        "<p align=\"justify\">The application review analysis program in the Traveloka application is a machine learning application that aims to analyze reviews in the Play Store on the Traveloka application. The general purpose of this program is to find out which reviews are positive, negative, or neutral, so that it can be analyzed how the public responds to the Traveloka application that can be used to book flights, hotels, and various travel-related services.</p>\n",
        "\n",
        "### 🎯 Objective\n",
        "<p align=\"justify\">The process of analyzing and evaluating reviews or feelings expressed by Traveloka application users in their reviews that touch on Traveloka application services on the Play Store.</p>\n",
        "\n",
        "### 🔍 Process\n",
        "- 📥 **Data Collection**: Data collection was carried out by collecting data on the Play Store with the Traveloka application ID using the Google-Play-Scraper library.  \n",
        "- 🧹 **Data Preprocessing**: CleaningText, casefoldingText, tokenizationText, filteringText, stemming/lemmatization, and toSentence.  \n",
        "- 🏷️ **Data Labeling**: The process of assigning a category or label to each data entry based on available information.  \n",
        "- ☁️ **Label Exploration**: This visualization uses WordCloud.  \n",
        "- ✂️ **Dataset Splitting**: Splitting the dataset into training, validation, and test sets for the model training process.  \n",
        "- 🧠 **Model Building**: Build a classification model using a random forest, support vector machines, gradient boosting machines, and XGBoost.  \n",
        "- 🏋️‍♂️ **Model Training**: Training a model on a training dataset by optimizing its parameters and weights so that it can recognize patterns in text.  \n",
        "- ✅ **Model Validation**: Validate the model on the validation dataset to measure its performance and prevent overfitting.  \n",
        "- 📊 **Evaluation and Tuning**: Evaluate the model on the test dataset and adjust parameters if necessary.\n"
      ],
      "metadata": {
        "id": "zCc8ZbOge3Sd"
      },
      "id": "zCc8ZbOge3Sd"
    },
    {
      "cell_type": "markdown",
      "source": [
        "## 1. Importing Packages\n",
        "\n",
        "---\n",
        "    \n",
        "| ⚡ Description: Importing Packages ⚡ |\n",
        "| :--------------------------- |\n",
        "| In this section the required packages are imported, and briefly discuss, the libraries that will be used throughout the analysis and modelling. |"
      ],
      "metadata": {
        "id": "qxT_d0_dh99_"
      },
      "id": "qxT_d0_dh99_"
    },
    {
      "cell_type": "code",
      "source": [
        "!pip install sastrawi"
      ],
      "metadata": {
        "colab": {
          "base_uri": "https://localhost:8080/"
        },
        "id": "fyY9nHPAhc2a",
        "outputId": "07fba748-7d8a-45bd-bd90-63851f10e8f3"
      },
      "id": "fyY9nHPAhc2a",
      "execution_count": 3,
      "outputs": [
        {
          "output_type": "stream",
          "name": "stdout",
          "text": [
            "Collecting sastrawi\n",
            "  Downloading Sastrawi-1.0.1-py2.py3-none-any.whl.metadata (909 bytes)\n",
            "Downloading Sastrawi-1.0.1-py2.py3-none-any.whl (209 kB)\n",
            "\u001b[?25l   \u001b[90m━━━━━━━━━━━━━━━━━━━━━━━━━━━━━━━━━━━━━━━━\u001b[0m \u001b[32m0.0/209.7 kB\u001b[0m \u001b[31m?\u001b[0m eta \u001b[36m-:--:--\u001b[0m\r\u001b[2K   \u001b[91m━━━━━━━━━━━━━━━━━━━━━━━━━━━━━━━━━━━━━━━\u001b[0m\u001b[90m╺\u001b[0m \u001b[32m204.8/209.7 kB\u001b[0m \u001b[31m7.3 MB/s\u001b[0m eta \u001b[36m0:00:01\u001b[0m\r\u001b[2K   \u001b[90m━━━━━━━━━━━━━━━━━━━━━━━━━━━━━━━━━━━━━━━━\u001b[0m \u001b[32m209.7/209.7 kB\u001b[0m \u001b[31m5.2 MB/s\u001b[0m eta \u001b[36m0:00:00\u001b[0m\n",
            "\u001b[?25hInstalling collected packages: sastrawi\n",
            "Successfully installed sastrawi-1.0.1\n"
          ]
        }
      ]
    },
    {
      "cell_type": "code",
      "source": [
        "# Import library for data cleaning\n",
        "import pandas as pd  # Pandas for data manipulation and analysis\n",
        "pd.options.mode.chained_assignment = None  # Disable chained assignment warning\n",
        "import numpy as np  # NumPy for numerical computation\n",
        "seed = 0\n",
        "np.random.seed(seed)  # Set seed for reproducibility\n",
        "import re  # Module for working with regular expressions\n",
        "import string  # Contains string constants such as punctuation marks\n",
        "import nltk  # Import NLTK (Natural Language Toolkit) library\n",
        "nltk.download('punkt')  # Download dataset required for text tokenization\n",
        "nltk.download('stopwords')  # Download dataset containing stopword lists in various languages\n",
        "from nltk.tokenize import word_tokenize  # Text tokenization\n",
        "from nltk.corpus import stopwords  # Stopword list in text\n",
        "from Sastrawi.Stemmer.StemmerFactory import StemmerFactory  # Stemming (removing word affixes) for Indonesian language\n",
        "from Sastrawi.StopWordRemover.StopWordRemoverFactory import StopWordRemoverFactory  # Remove stopwords in Indonesian language\n",
        "import csv\n",
        "import requests\n",
        "from io import StringIO\n",
        "\n",
        "# Import library for visualization\n",
        "import matplotlib.pyplot as plt  # Matplotlib for data visualization\n",
        "import seaborn as sns  # Seaborn for statistical data visualization and style setting\n",
        "from wordcloud import WordCloud  # Create a word cloud visualization from text\n",
        "\n",
        "# Import library for preprocessing\n",
        "from sklearn.feature_extraction.text import TfidfVectorizer\n",
        "from sklearn.feature_extraction.text import CountVectorizer\n",
        "from sklearn.feature_extraction.text import HashingVectorizer\n",
        "from sklearn.model_selection import train_test_split\n",
        "from imblearn.over_sampling import RandomOverSampler\n",
        "from collections import Counter\n",
        "from sklearn.preprocessing import StandardScaler\n",
        "\n",
        "# Import library for processing\n",
        "from sklearn.metrics import accuracy_score\n",
        "from sklearn.ensemble import RandomForestClassifier\n",
        "from sklearn.svm import SVC\n",
        "from sklearn.ensemble import GradientBoostingClassifier\n",
        "import xgboost as xgb\n"
      ],
      "metadata": {
        "colab": {
          "base_uri": "https://localhost:8080/"
        },
        "id": "QVHss1bZiBb9",
        "outputId": "6da32f14-aea5-4603-a6d7-ed4b89334437"
      },
      "id": "QVHss1bZiBb9",
      "execution_count": 4,
      "outputs": [
        {
          "output_type": "stream",
          "name": "stderr",
          "text": [
            "[nltk_data] Downloading package punkt to /root/nltk_data...\n",
            "[nltk_data]   Unzipping tokenizers/punkt.zip.\n",
            "[nltk_data] Downloading package stopwords to /root/nltk_data...\n",
            "[nltk_data]   Unzipping corpora/stopwords.zip.\n"
          ]
        }
      ]
    },
    {
      "cell_type": "markdown",
      "source": [
        "## 2. Loading Data\n",
        "\n",
        "---\n",
        "    \n",
        "| ⚡ Description: Loading the data ⚡ |\n",
        "| :--------------------------- |\n",
        "| In this section you are required to load data from local and then extract it to the storage directory. |\n",
        "\n",
        "---"
      ],
      "metadata": {
        "id": "81vEaESkiqbk"
      },
      "id": "81vEaESkiqbk"
    },
    {
      "cell_type": "code",
      "source": [
        "app_reviews_df = pd.read_csv('traveloka_review_data.csv')\n",
        "app_reviews_df.shape"
      ],
      "metadata": {
        "colab": {
          "base_uri": "https://localhost:8080/"
        },
        "id": "NbEKD7AZiQNB",
        "outputId": "8a526876-e632-42f9-e4c7-3ae3dad17ad1"
      },
      "id": "NbEKD7AZiQNB",
      "execution_count": 5,
      "outputs": [
        {
          "output_type": "execute_result",
          "data": {
            "text/plain": [
              "(15000, 11)"
            ]
          },
          "metadata": {},
          "execution_count": 5
        }
      ]
    },
    {
      "cell_type": "code",
      "source": [
        "app_reviews_df.head()"
      ],
      "metadata": {
        "colab": {
          "base_uri": "https://localhost:8080/",
          "height": 573
        },
        "id": "ybL8WQWEi8fN",
        "outputId": "1f2cea0a-b401-4f0e-9687-ef05ae921442"
      },
      "id": "ybL8WQWEi8fN",
      "execution_count": 6,
      "outputs": [
        {
          "output_type": "execute_result",
          "data": {
            "text/plain": [
              "                               reviewId         userName  \\\n",
              "0  249bad51-ff7c-41a2-8769-9c93164a9a2b  Pengguna Google   \n",
              "1  ac1f0759-b36e-40d1-af4f-f1a5e65d226e  Pengguna Google   \n",
              "2  18b085b3-547e-47c6-a095-54d6d7ccef07  Pengguna Google   \n",
              "3  6f5b0ca2-b296-45e8-9592-553632b91387  Pengguna Google   \n",
              "4  2bf470ad-aeac-4f0b-9c93-39f48f384009  Pengguna Google   \n",
              "\n",
              "                                           userImage  \\\n",
              "0  https://play-lh.googleusercontent.com/EGemoI2N...   \n",
              "1  https://play-lh.googleusercontent.com/EGemoI2N...   \n",
              "2  https://play-lh.googleusercontent.com/EGemoI2N...   \n",
              "3  https://play-lh.googleusercontent.com/EGemoI2N...   \n",
              "4  https://play-lh.googleusercontent.com/EGemoI2N...   \n",
              "\n",
              "                                             content  score  thumbsUpCount  \\\n",
              "0  kenapa kalau mau melakukan pembayaran harganya...      1             31   \n",
              "1  Salah satu fitur terbaik adalah informasi posi...      5             45   \n",
              "2  kok traveloka skrg jd aneh, tiba2 saja limit t...      1             47   \n",
              "3  menginap di hotel o surabaya bayar by aplikasi...      1              8   \n",
              "4  saya mau pesan tiket kereta dari jember ke jak...      3              4   \n",
              "\n",
              "  reviewCreatedVersion                   at  \\\n",
              "0               5.21.0  2025-06-12 13:20:07   \n",
              "1               5.21.0  2025-06-16 12:12:49   \n",
              "2               5.20.0  2025-06-07 04:56:51   \n",
              "3               5.21.0  2025-06-12 14:56:08   \n",
              "4               5.21.0  2025-06-13 05:41:36   \n",
              "\n",
              "                                        replyContent            repliedAt  \\\n",
              "0  Hai Dina, kami mohon maaf atas kekecewaan Anda...  2025-06-12 13:56:27   \n",
              "1  Halo Kak, terima kasih banyak atas ratingnya. ...  2025-06-16 12:35:06   \n",
              "2  Hai Wida, kami mohon maaf atas ketidaknyamanan...  2025-06-07 05:17:08   \n",
              "3  Hai Youle, kami mohon maaf terkait masalah den...  2025-06-12 15:10:33   \n",
              "4  Hai Pengguna Setia Traveloka, kami mohon maaf ...  2025-06-13 06:28:55   \n",
              "\n",
              "  appVersion  \n",
              "0     5.21.0  \n",
              "1     5.21.0  \n",
              "2     5.20.0  \n",
              "3     5.21.0  \n",
              "4     5.21.0  "
            ],
            "text/html": [
              "\n",
              "  <div id=\"df-eb215238-7472-45e2-acf7-be1bc4b09837\" class=\"colab-df-container\">\n",
              "    <div>\n",
              "<style scoped>\n",
              "    .dataframe tbody tr th:only-of-type {\n",
              "        vertical-align: middle;\n",
              "    }\n",
              "\n",
              "    .dataframe tbody tr th {\n",
              "        vertical-align: top;\n",
              "    }\n",
              "\n",
              "    .dataframe thead th {\n",
              "        text-align: right;\n",
              "    }\n",
              "</style>\n",
              "<table border=\"1\" class=\"dataframe\">\n",
              "  <thead>\n",
              "    <tr style=\"text-align: right;\">\n",
              "      <th></th>\n",
              "      <th>reviewId</th>\n",
              "      <th>userName</th>\n",
              "      <th>userImage</th>\n",
              "      <th>content</th>\n",
              "      <th>score</th>\n",
              "      <th>thumbsUpCount</th>\n",
              "      <th>reviewCreatedVersion</th>\n",
              "      <th>at</th>\n",
              "      <th>replyContent</th>\n",
              "      <th>repliedAt</th>\n",
              "      <th>appVersion</th>\n",
              "    </tr>\n",
              "  </thead>\n",
              "  <tbody>\n",
              "    <tr>\n",
              "      <th>0</th>\n",
              "      <td>249bad51-ff7c-41a2-8769-9c93164a9a2b</td>\n",
              "      <td>Pengguna Google</td>\n",
              "      <td>https://play-lh.googleusercontent.com/EGemoI2N...</td>\n",
              "      <td>kenapa kalau mau melakukan pembayaran harganya...</td>\n",
              "      <td>1</td>\n",
              "      <td>31</td>\n",
              "      <td>5.21.0</td>\n",
              "      <td>2025-06-12 13:20:07</td>\n",
              "      <td>Hai Dina, kami mohon maaf atas kekecewaan Anda...</td>\n",
              "      <td>2025-06-12 13:56:27</td>\n",
              "      <td>5.21.0</td>\n",
              "    </tr>\n",
              "    <tr>\n",
              "      <th>1</th>\n",
              "      <td>ac1f0759-b36e-40d1-af4f-f1a5e65d226e</td>\n",
              "      <td>Pengguna Google</td>\n",
              "      <td>https://play-lh.googleusercontent.com/EGemoI2N...</td>\n",
              "      <td>Salah satu fitur terbaik adalah informasi posi...</td>\n",
              "      <td>5</td>\n",
              "      <td>45</td>\n",
              "      <td>5.21.0</td>\n",
              "      <td>2025-06-16 12:12:49</td>\n",
              "      <td>Halo Kak, terima kasih banyak atas ratingnya. ...</td>\n",
              "      <td>2025-06-16 12:35:06</td>\n",
              "      <td>5.21.0</td>\n",
              "    </tr>\n",
              "    <tr>\n",
              "      <th>2</th>\n",
              "      <td>18b085b3-547e-47c6-a095-54d6d7ccef07</td>\n",
              "      <td>Pengguna Google</td>\n",
              "      <td>https://play-lh.googleusercontent.com/EGemoI2N...</td>\n",
              "      <td>kok traveloka skrg jd aneh, tiba2 saja limit t...</td>\n",
              "      <td>1</td>\n",
              "      <td>47</td>\n",
              "      <td>5.20.0</td>\n",
              "      <td>2025-06-07 04:56:51</td>\n",
              "      <td>Hai Wida, kami mohon maaf atas ketidaknyamanan...</td>\n",
              "      <td>2025-06-07 05:17:08</td>\n",
              "      <td>5.20.0</td>\n",
              "    </tr>\n",
              "    <tr>\n",
              "      <th>3</th>\n",
              "      <td>6f5b0ca2-b296-45e8-9592-553632b91387</td>\n",
              "      <td>Pengguna Google</td>\n",
              "      <td>https://play-lh.googleusercontent.com/EGemoI2N...</td>\n",
              "      <td>menginap di hotel o surabaya bayar by aplikasi...</td>\n",
              "      <td>1</td>\n",
              "      <td>8</td>\n",
              "      <td>5.21.0</td>\n",
              "      <td>2025-06-12 14:56:08</td>\n",
              "      <td>Hai Youle, kami mohon maaf terkait masalah den...</td>\n",
              "      <td>2025-06-12 15:10:33</td>\n",
              "      <td>5.21.0</td>\n",
              "    </tr>\n",
              "    <tr>\n",
              "      <th>4</th>\n",
              "      <td>2bf470ad-aeac-4f0b-9c93-39f48f384009</td>\n",
              "      <td>Pengguna Google</td>\n",
              "      <td>https://play-lh.googleusercontent.com/EGemoI2N...</td>\n",
              "      <td>saya mau pesan tiket kereta dari jember ke jak...</td>\n",
              "      <td>3</td>\n",
              "      <td>4</td>\n",
              "      <td>5.21.0</td>\n",
              "      <td>2025-06-13 05:41:36</td>\n",
              "      <td>Hai Pengguna Setia Traveloka, kami mohon maaf ...</td>\n",
              "      <td>2025-06-13 06:28:55</td>\n",
              "      <td>5.21.0</td>\n",
              "    </tr>\n",
              "  </tbody>\n",
              "</table>\n",
              "</div>\n",
              "    <div class=\"colab-df-buttons\">\n",
              "\n",
              "  <div class=\"colab-df-container\">\n",
              "    <button class=\"colab-df-convert\" onclick=\"convertToInteractive('df-eb215238-7472-45e2-acf7-be1bc4b09837')\"\n",
              "            title=\"Convert this dataframe to an interactive table.\"\n",
              "            style=\"display:none;\">\n",
              "\n",
              "  <svg xmlns=\"http://www.w3.org/2000/svg\" height=\"24px\" viewBox=\"0 -960 960 960\">\n",
              "    <path d=\"M120-120v-720h720v720H120Zm60-500h600v-160H180v160Zm220 220h160v-160H400v160Zm0 220h160v-160H400v160ZM180-400h160v-160H180v160Zm440 0h160v-160H620v160ZM180-180h160v-160H180v160Zm440 0h160v-160H620v160Z\"/>\n",
              "  </svg>\n",
              "    </button>\n",
              "\n",
              "  <style>\n",
              "    .colab-df-container {\n",
              "      display:flex;\n",
              "      gap: 12px;\n",
              "    }\n",
              "\n",
              "    .colab-df-convert {\n",
              "      background-color: #E8F0FE;\n",
              "      border: none;\n",
              "      border-radius: 50%;\n",
              "      cursor: pointer;\n",
              "      display: none;\n",
              "      fill: #1967D2;\n",
              "      height: 32px;\n",
              "      padding: 0 0 0 0;\n",
              "      width: 32px;\n",
              "    }\n",
              "\n",
              "    .colab-df-convert:hover {\n",
              "      background-color: #E2EBFA;\n",
              "      box-shadow: 0px 1px 2px rgba(60, 64, 67, 0.3), 0px 1px 3px 1px rgba(60, 64, 67, 0.15);\n",
              "      fill: #174EA6;\n",
              "    }\n",
              "\n",
              "    .colab-df-buttons div {\n",
              "      margin-bottom: 4px;\n",
              "    }\n",
              "\n",
              "    [theme=dark] .colab-df-convert {\n",
              "      background-color: #3B4455;\n",
              "      fill: #D2E3FC;\n",
              "    }\n",
              "\n",
              "    [theme=dark] .colab-df-convert:hover {\n",
              "      background-color: #434B5C;\n",
              "      box-shadow: 0px 1px 3px 1px rgba(0, 0, 0, 0.15);\n",
              "      filter: drop-shadow(0px 1px 2px rgba(0, 0, 0, 0.3));\n",
              "      fill: #FFFFFF;\n",
              "    }\n",
              "  </style>\n",
              "\n",
              "    <script>\n",
              "      const buttonEl =\n",
              "        document.querySelector('#df-eb215238-7472-45e2-acf7-be1bc4b09837 button.colab-df-convert');\n",
              "      buttonEl.style.display =\n",
              "        google.colab.kernel.accessAllowed ? 'block' : 'none';\n",
              "\n",
              "      async function convertToInteractive(key) {\n",
              "        const element = document.querySelector('#df-eb215238-7472-45e2-acf7-be1bc4b09837');\n",
              "        const dataTable =\n",
              "          await google.colab.kernel.invokeFunction('convertToInteractive',\n",
              "                                                    [key], {});\n",
              "        if (!dataTable) return;\n",
              "\n",
              "        const docLinkHtml = 'Like what you see? Visit the ' +\n",
              "          '<a target=\"_blank\" href=https://colab.research.google.com/notebooks/data_table.ipynb>data table notebook</a>'\n",
              "          + ' to learn more about interactive tables.';\n",
              "        element.innerHTML = '';\n",
              "        dataTable['output_type'] = 'display_data';\n",
              "        await google.colab.output.renderOutput(dataTable, element);\n",
              "        const docLink = document.createElement('div');\n",
              "        docLink.innerHTML = docLinkHtml;\n",
              "        element.appendChild(docLink);\n",
              "      }\n",
              "    </script>\n",
              "  </div>\n",
              "\n",
              "\n",
              "    <div id=\"df-ab96dd59-2902-47f7-a95f-fc054c532535\">\n",
              "      <button class=\"colab-df-quickchart\" onclick=\"quickchart('df-ab96dd59-2902-47f7-a95f-fc054c532535')\"\n",
              "                title=\"Suggest charts\"\n",
              "                style=\"display:none;\">\n",
              "\n",
              "<svg xmlns=\"http://www.w3.org/2000/svg\" height=\"24px\"viewBox=\"0 0 24 24\"\n",
              "     width=\"24px\">\n",
              "    <g>\n",
              "        <path d=\"M19 3H5c-1.1 0-2 .9-2 2v14c0 1.1.9 2 2 2h14c1.1 0 2-.9 2-2V5c0-1.1-.9-2-2-2zM9 17H7v-7h2v7zm4 0h-2V7h2v10zm4 0h-2v-4h2v4z\"/>\n",
              "    </g>\n",
              "</svg>\n",
              "      </button>\n",
              "\n",
              "<style>\n",
              "  .colab-df-quickchart {\n",
              "      --bg-color: #E8F0FE;\n",
              "      --fill-color: #1967D2;\n",
              "      --hover-bg-color: #E2EBFA;\n",
              "      --hover-fill-color: #174EA6;\n",
              "      --disabled-fill-color: #AAA;\n",
              "      --disabled-bg-color: #DDD;\n",
              "  }\n",
              "\n",
              "  [theme=dark] .colab-df-quickchart {\n",
              "      --bg-color: #3B4455;\n",
              "      --fill-color: #D2E3FC;\n",
              "      --hover-bg-color: #434B5C;\n",
              "      --hover-fill-color: #FFFFFF;\n",
              "      --disabled-bg-color: #3B4455;\n",
              "      --disabled-fill-color: #666;\n",
              "  }\n",
              "\n",
              "  .colab-df-quickchart {\n",
              "    background-color: var(--bg-color);\n",
              "    border: none;\n",
              "    border-radius: 50%;\n",
              "    cursor: pointer;\n",
              "    display: none;\n",
              "    fill: var(--fill-color);\n",
              "    height: 32px;\n",
              "    padding: 0;\n",
              "    width: 32px;\n",
              "  }\n",
              "\n",
              "  .colab-df-quickchart:hover {\n",
              "    background-color: var(--hover-bg-color);\n",
              "    box-shadow: 0 1px 2px rgba(60, 64, 67, 0.3), 0 1px 3px 1px rgba(60, 64, 67, 0.15);\n",
              "    fill: var(--button-hover-fill-color);\n",
              "  }\n",
              "\n",
              "  .colab-df-quickchart-complete:disabled,\n",
              "  .colab-df-quickchart-complete:disabled:hover {\n",
              "    background-color: var(--disabled-bg-color);\n",
              "    fill: var(--disabled-fill-color);\n",
              "    box-shadow: none;\n",
              "  }\n",
              "\n",
              "  .colab-df-spinner {\n",
              "    border: 2px solid var(--fill-color);\n",
              "    border-color: transparent;\n",
              "    border-bottom-color: var(--fill-color);\n",
              "    animation:\n",
              "      spin 1s steps(1) infinite;\n",
              "  }\n",
              "\n",
              "  @keyframes spin {\n",
              "    0% {\n",
              "      border-color: transparent;\n",
              "      border-bottom-color: var(--fill-color);\n",
              "      border-left-color: var(--fill-color);\n",
              "    }\n",
              "    20% {\n",
              "      border-color: transparent;\n",
              "      border-left-color: var(--fill-color);\n",
              "      border-top-color: var(--fill-color);\n",
              "    }\n",
              "    30% {\n",
              "      border-color: transparent;\n",
              "      border-left-color: var(--fill-color);\n",
              "      border-top-color: var(--fill-color);\n",
              "      border-right-color: var(--fill-color);\n",
              "    }\n",
              "    40% {\n",
              "      border-color: transparent;\n",
              "      border-right-color: var(--fill-color);\n",
              "      border-top-color: var(--fill-color);\n",
              "    }\n",
              "    60% {\n",
              "      border-color: transparent;\n",
              "      border-right-color: var(--fill-color);\n",
              "    }\n",
              "    80% {\n",
              "      border-color: transparent;\n",
              "      border-right-color: var(--fill-color);\n",
              "      border-bottom-color: var(--fill-color);\n",
              "    }\n",
              "    90% {\n",
              "      border-color: transparent;\n",
              "      border-bottom-color: var(--fill-color);\n",
              "    }\n",
              "  }\n",
              "</style>\n",
              "\n",
              "      <script>\n",
              "        async function quickchart(key) {\n",
              "          const quickchartButtonEl =\n",
              "            document.querySelector('#' + key + ' button');\n",
              "          quickchartButtonEl.disabled = true;  // To prevent multiple clicks.\n",
              "          quickchartButtonEl.classList.add('colab-df-spinner');\n",
              "          try {\n",
              "            const charts = await google.colab.kernel.invokeFunction(\n",
              "                'suggestCharts', [key], {});\n",
              "          } catch (error) {\n",
              "            console.error('Error during call to suggestCharts:', error);\n",
              "          }\n",
              "          quickchartButtonEl.classList.remove('colab-df-spinner');\n",
              "          quickchartButtonEl.classList.add('colab-df-quickchart-complete');\n",
              "        }\n",
              "        (() => {\n",
              "          let quickchartButtonEl =\n",
              "            document.querySelector('#df-ab96dd59-2902-47f7-a95f-fc054c532535 button');\n",
              "          quickchartButtonEl.style.display =\n",
              "            google.colab.kernel.accessAllowed ? 'block' : 'none';\n",
              "        })();\n",
              "      </script>\n",
              "    </div>\n",
              "\n",
              "    </div>\n",
              "  </div>\n"
            ],
            "application/vnd.google.colaboratory.intrinsic+json": {
              "type": "dataframe",
              "variable_name": "app_reviews_df",
              "summary": "{\n  \"name\": \"app_reviews_df\",\n  \"rows\": 15000,\n  \"fields\": [\n    {\n      \"column\": \"reviewId\",\n      \"properties\": {\n        \"dtype\": \"string\",\n        \"num_unique_values\": 15000,\n        \"samples\": [\n          \"a0f3149f-d40d-4492-97fb-125b46eb1ea8\",\n          \"d0e554ff-0213-4fa4-a88d-d74fc5aa940e\",\n          \"5877b18e-8c78-4aa8-a559-27a4decd0b76\"\n        ],\n        \"semantic_type\": \"\",\n        \"description\": \"\"\n      }\n    },\n    {\n      \"column\": \"userName\",\n      \"properties\": {\n        \"dtype\": \"category\",\n        \"num_unique_values\": 1106,\n        \"samples\": [\n          \"Sekar Ayu\",\n          \"Muhammad Idris\",\n          \"melinda alya\"\n        ],\n        \"semantic_type\": \"\",\n        \"description\": \"\"\n      }\n    },\n    {\n      \"column\": \"userImage\",\n      \"properties\": {\n        \"dtype\": \"category\",\n        \"num_unique_values\": 1106,\n        \"samples\": [\n          \"https://play-lh.googleusercontent.com/a/ACg8ocJ61RXhpGyQJstVb3yDNCnci-x9xHaTGVnbmas3rob47w9lJw=mo\",\n          \"https://play-lh.googleusercontent.com/a-/ALV-UjXA4Qw0S_5Y_bR4RnQDliq5pm1jgOWMhb9IV5nYIA3-Xo1wDPIL\",\n          \"https://play-lh.googleusercontent.com/a/ACg8ocL9Qndx8b0f-IjUtVuhZjDcqc7ywdQC40ooaxwLODOz-zVN5g=mo\"\n        ],\n        \"semantic_type\": \"\",\n        \"description\": \"\"\n      }\n    },\n    {\n      \"column\": \"content\",\n      \"properties\": {\n        \"dtype\": \"string\",\n        \"num_unique_values\": 14945,\n        \"samples\": [\n          \"Sangat terbantu dlm mencari jenis transportasi, hotel dgn berbagai harga. Terimakasih Traveloka.\",\n          \"mudah banget melakukan reservasi melalui traveloka. banyak promo yg bisa d daat, apalagi jika menggunakan paylater.\",\n          \"itu tolong dong, orang yg traveloka di pangkalpinang bangka belitung susah bener kalo ditanya, di wa balasnya lama bgt, jutek lagi. parah\"\n        ],\n        \"semantic_type\": \"\",\n        \"description\": \"\"\n      }\n    },\n    {\n      \"column\": \"score\",\n      \"properties\": {\n        \"dtype\": \"number\",\n        \"std\": 1,\n        \"min\": 1,\n        \"max\": 5,\n        \"num_unique_values\": 5,\n        \"samples\": [\n          5,\n          2,\n          3\n        ],\n        \"semantic_type\": \"\",\n        \"description\": \"\"\n      }\n    },\n    {\n      \"column\": \"thumbsUpCount\",\n      \"properties\": {\n        \"dtype\": \"number\",\n        \"std\": 49,\n        \"min\": 0,\n        \"max\": 2758,\n        \"num_unique_values\": 250,\n        \"samples\": [\n          504,\n          5,\n          23\n        ],\n        \"semantic_type\": \"\",\n        \"description\": \"\"\n      }\n    },\n    {\n      \"column\": \"reviewCreatedVersion\",\n      \"properties\": {\n        \"dtype\": \"category\",\n        \"num_unique_values\": 214,\n        \"samples\": [\n          \"5.13.0\",\n          \"3.42.0\",\n          \"2.14.1\"\n        ],\n        \"semantic_type\": \"\",\n        \"description\": \"\"\n      }\n    },\n    {\n      \"column\": \"at\",\n      \"properties\": {\n        \"dtype\": \"object\",\n        \"num_unique_values\": 14999,\n        \"samples\": [\n          \"2022-11-30 10:26:17\",\n          \"2024-04-23 03:40:19\",\n          \"2019-12-01 04:44:24\"\n        ],\n        \"semantic_type\": \"\",\n        \"description\": \"\"\n      }\n    },\n    {\n      \"column\": \"replyContent\",\n      \"properties\": {\n        \"dtype\": \"category\",\n        \"num_unique_values\": 7169,\n        \"samples\": [\n          \"Hai kak Hinata. Mohon maaf atas kendala yang kakak alami. Untuk setiap keluhan, bisa kakak sampaikan melalui inbox aplikasi ya. Terima kasih.\",\n          \"Hai Yuli, senang mendengar Anda menyukai aplikasi kami. Dukungan Anda sangat berharga bagi kami, dan kami berterima kasih Anda telah meluangkan waktu untuk berbagi pengalaman positif Anda. Jika Anda memiliki saran atau pertanyaan, jangan ragu untuk menghubungi kami. Terima kasih telah menjadi bagian dari komunitas kami! -NM\",\n          \"Halo kak Syarief, terima kasih telah menggunakan Traveloka dan mohon maaf atas ketidaknyamanan yang Anda alami. Mohon bantuan Anda untuk menginformasikan kendala yang dimaksud beserta nomor pesanan (jika ada) melalui pesan pada aplikasi Anda atau melalui email ke cs@traveloka.com agar kami dapat membantu Anda lebih lanjut.\"\n        ],\n        \"semantic_type\": \"\",\n        \"description\": \"\"\n      }\n    },\n    {\n      \"column\": \"repliedAt\",\n      \"properties\": {\n        \"dtype\": \"object\",\n        \"num_unique_values\": 11107,\n        \"samples\": [\n          \"2023-04-22 08:12:08\",\n          \"2024-02-29 10:32:04\",\n          \"2019-09-30 04:29:58\"\n        ],\n        \"semantic_type\": \"\",\n        \"description\": \"\"\n      }\n    },\n    {\n      \"column\": \"appVersion\",\n      \"properties\": {\n        \"dtype\": \"category\",\n        \"num_unique_values\": 214,\n        \"samples\": [\n          \"5.13.0\",\n          \"3.42.0\",\n          \"2.14.1\"\n        ],\n        \"semantic_type\": \"\",\n        \"description\": \"\"\n      }\n    }\n  ]\n}"
            }
          },
          "metadata": {},
          "execution_count": 6
        }
      ]
    },
    {
      "cell_type": "code",
      "source": [
        "app_reviews_df.info()"
      ],
      "metadata": {
        "colab": {
          "base_uri": "https://localhost:8080/"
        },
        "id": "C5azbcmujCPh",
        "outputId": "0ffb8231-a102-4956-b527-e69c636dfce2"
      },
      "id": "C5azbcmujCPh",
      "execution_count": 7,
      "outputs": [
        {
          "output_type": "stream",
          "name": "stdout",
          "text": [
            "<class 'pandas.core.frame.DataFrame'>\n",
            "RangeIndex: 15000 entries, 0 to 14999\n",
            "Data columns (total 11 columns):\n",
            " #   Column                Non-Null Count  Dtype \n",
            "---  ------                --------------  ----- \n",
            " 0   reviewId              15000 non-null  object\n",
            " 1   userName              15000 non-null  object\n",
            " 2   userImage             15000 non-null  object\n",
            " 3   content               15000 non-null  object\n",
            " 4   score                 15000 non-null  int64 \n",
            " 5   thumbsUpCount         15000 non-null  int64 \n",
            " 6   reviewCreatedVersion  12333 non-null  object\n",
            " 7   at                    15000 non-null  object\n",
            " 8   replyContent          11153 non-null  object\n",
            " 9   repliedAt             11153 non-null  object\n",
            " 10  appVersion            12333 non-null  object\n",
            "dtypes: int64(2), object(9)\n",
            "memory usage: 1.3+ MB\n"
          ]
        }
      ]
    },
    {
      "cell_type": "markdown",
      "source": [
        "## 3. Data Preprocessing\n",
        "\n",
        "---\n",
        "    \n",
        "| ⚡ Description: Data preprocessing ⚡ |\n",
        "| :--------------------------- |\n",
        "| These preprocessing steps aim to remove noise, convert text to a consistent format, and extract important features for further analysis. |\n",
        "\n",
        "---\n",
        "- <p align = \"justify\">Cleans the text by removing mentions, hashtags, RTs (retweets), links, numbers and punctuation. Additionally, newline characters are replaced with spaces and extra spaces at the start and end of text are removed.\n",
        "\n",
        "- <p align = \"justify\">Converts all characters in the text to lowercase to make the text uniform.\n",
        "tokenizingText(text): Breaks text into a list of words or tokens. It helps in breaking down the text into basic components for further analysis.\n",
        "\n",
        "- <p align = \"justify\">Removes stop words in text. The list of stop words has been updated with some additional words.\n",
        "\n",
        "- <p align = \"justify\">Applies stemming to text, i.e. reduces words to their basic forms. You use the Sastrawi library to do stemming in Indonesian.\n",
        "\n",
        "- <p align = \"justify\">Combines a list of words into a sentence."
      ],
      "metadata": {
        "id": "qLanQzFijLmH"
      },
      "id": "qLanQzFijLmH"
    },
    {
      "cell_type": "code",
      "source": [
        "# Create a new DataFrame (clean_df) by removing rows with missing (NaN) values from app_reviews_df\n",
        "clean_df = app_reviews_df.dropna(subset=['content'])"
      ],
      "metadata": {
        "id": "6UA532YLjSyl"
      },
      "id": "6UA532YLjSyl",
      "execution_count": 8,
      "outputs": []
    },
    {
      "cell_type": "code",
      "source": [
        "# Remove duplicate rows from the clean_df DataFrame\n",
        "clean_df = clean_df.drop_duplicates(subset=['content'])\n",
        "\n",
        "clean_df.shape"
      ],
      "metadata": {
        "colab": {
          "base_uri": "https://localhost:8080/"
        },
        "id": "MDi5DYhYjvN_",
        "outputId": "9ddd2f5a-1d87-4a4a-9181-d071a2bc1e3f"
      },
      "id": "MDi5DYhYjvN_",
      "execution_count": 9,
      "outputs": [
        {
          "output_type": "execute_result",
          "data": {
            "text/plain": [
              "(14945, 11)"
            ]
          },
          "metadata": {},
          "execution_count": 9
        }
      ]
    },
    {
      "cell_type": "code",
      "source": [
        "clean_df.info()"
      ],
      "metadata": {
        "colab": {
          "base_uri": "https://localhost:8080/"
        },
        "id": "Os8icqyUkXsx",
        "outputId": "928a02f8-51b5-4d0d-ac98-2af3b75c857e"
      },
      "id": "Os8icqyUkXsx",
      "execution_count": 10,
      "outputs": [
        {
          "output_type": "stream",
          "name": "stdout",
          "text": [
            "<class 'pandas.core.frame.DataFrame'>\n",
            "Index: 14945 entries, 0 to 14999\n",
            "Data columns (total 11 columns):\n",
            " #   Column                Non-Null Count  Dtype \n",
            "---  ------                --------------  ----- \n",
            " 0   reviewId              14945 non-null  object\n",
            " 1   userName              14945 non-null  object\n",
            " 2   userImage             14945 non-null  object\n",
            " 3   content               14945 non-null  object\n",
            " 4   score                 14945 non-null  int64 \n",
            " 5   thumbsUpCount         14945 non-null  int64 \n",
            " 6   reviewCreatedVersion  12282 non-null  object\n",
            " 7   at                    14945 non-null  object\n",
            " 8   replyContent          11103 non-null  object\n",
            " 9   repliedAt             11103 non-null  object\n",
            " 10  appVersion            12282 non-null  object\n",
            "dtypes: int64(2), object(9)\n",
            "memory usage: 1.4+ MB\n"
          ]
        }
      ]
    },
    {
      "cell_type": "markdown",
      "source": [
        "#### Cleaning dataframe"
      ],
      "metadata": {
        "id": "GeV55ZGgku3N"
      },
      "id": "GeV55ZGgku3N"
    },
    {
      "cell_type": "code",
      "source": [
        "def cleaningText(text):\n",
        "    text = re.sub(r'@[A-Za-z0-9]+', '', text)  # remove mentions\n",
        "    text = re.sub(r'#[A-Za-z0-9]+', '', text)  # remove hashtags\n",
        "    text = re.sub(r'RT[\\s]', '', text)  # remove retweet symbols\n",
        "    text = re.sub(r\"http\\S+\", '', text)  # remove URLs\n",
        "    text = re.sub(r'[0-9]+', '', text)  # remove numbers\n",
        "    text = re.sub(r'[^\\w\\s]', '', text)  # remove special characters except letters and numbers\n",
        "    text = re.sub(r'(.)\\1+', r'\\1\\1', text)  # reduce repeated characters to at most two\n",
        "    text = re.sub(r'\\b(\\w+)(?:\\W\\1\\b)+', r'\\1', text, flags=re.IGNORECASE)  # remove duplicated words\n",
        "    text = re.sub(r'\\s+', ' ', text)  # remove extra spaces\n",
        "    text = re.sub(r'\\b\\w{1,3}\\b', '', text)  # remove words with 1 to 3 letters\n",
        "\n",
        "    text = text.replace('\\n', ' ')  # replace newlines with spaces\n",
        "    text = text.translate(str.maketrans('', '', string.punctuation))  # remove all punctuation\n",
        "    text = text.strip(' ')  # remove leading and trailing whitespace\n",
        "    return text\n"
      ],
      "metadata": {
        "id": "QZEwXYInkrk3"
      },
      "id": "QZEwXYInkrk3",
      "execution_count": 11,
      "outputs": []
    },
    {
      "cell_type": "code",
      "source": [],
      "metadata": {
        "id": "2jT03Isxmi9D"
      },
      "id": "2jT03Isxmi9D",
      "execution_count": null,
      "outputs": []
    }
  ],
  "metadata": {
    "language_info": {
      "name": "python"
    },
    "colab": {
      "provenance": []
    },
    "kernelspec": {
      "name": "python3",
      "display_name": "Python 3"
    }
  },
  "nbformat": 4,
  "nbformat_minor": 5
}