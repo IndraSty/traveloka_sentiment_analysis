{
  "cells": [
    {
      "cell_type": "markdown",
      "source": [
        "# Traveloka Sentiment Analysis\n",
        "\n",
        "![Traveloka Logo](https://console.kr-asia.com/wp-content/uploads/2020/12/traveloka.jpg)\n",
        "\n",
        "![Python](https://img.shields.io/badge/Python-3.12-blue)\n",
        "![Machine Learning](https://img.shields.io/badge/Machine%20Learning-Sentiment%20Analysis-orange)\n",
        "![Scikit-Learn](https://img.shields.io/badge/Scikit--Learn-Modeling-yellow)\n",
        "![Status](https://img.shields.io/badge/Status-Completed-brightgreen)\n",
        "\n",
        "---\n",
        "\n",
        "### 👤 My Identity\n",
        "- **Name** : Indra Styawan  \n",
        "- **Role** : Data Science  \n",
        "- **Domicile** : Yogyakarta, Indonesia  \n",
        "- **Email** : indrastyawan0925@gmail.com  \n",
        "- **LinkedIn** : www.linkedin.com/in/indrastyawan25\n",
        "\n",
        "---\n",
        "\n",
        "<h1><center>📈 Analysis of App's Review on Traveloka Application </center></h1>\n",
        "\n",
        "### 📝 Introduction\n",
        "<p align=\"justify\">The application review analysis program in the Traveloka application is a machine learning application that aims to analyze reviews in the Play Store on the Traveloka application. The general purpose of this program is to find out which reviews are positive, negative, or neutral, so that it can be analyzed how the public responds to the Traveloka application that can be used to book flights, hotels, and various travel-related services.</p>\n",
        "\n",
        "### 🎯 Objective\n",
        "<p align=\"justify\">The process of analyzing and evaluating reviews or feelings expressed by Traveloka application users in their reviews that touch on Traveloka application services on the Play Store.</p>\n",
        "\n",
        "### 🔍 Process\n",
        "- 📥 **Data Collection**: Data collection was carried out by collecting data on the Play Store with the Traveloka application ID using the Google-Play-Scraper library.  \n",
        "- 🧹 **Data Preprocessing**: CleaningText, casefoldingText, tokenizationText, filteringText, stemming/lemmatization, and toSentence.  \n",
        "- 🏷️ **Data Labeling**: The process of assigning a category or label to each data entry based on available information.  \n",
        "- ☁️ **Label Exploration**: This visualization uses WordCloud.  \n",
        "- ✂️ **Dataset Splitting**: Splitting the dataset into training, validation, and test sets for the model training process.  \n",
        "- 🧠 **Model Building**: Build a classification model using a random forest, support vector machines, gradient boosting machines, and XGBoost.  \n",
        "- 🏋️‍♂️ **Model Training**: Training a model on a training dataset by optimizing its parameters and weights so that it can recognize patterns in text.  \n",
        "- ✅ **Model Validation**: Validate the model on the validation dataset to measure its performance and prevent overfitting.  \n",
        "- 📊 **Evaluation and Tuning**: Evaluate the model on the test dataset and adjust parameters if necessary.\n"
      ],
      "metadata": {
        "id": "zCc8ZbOge3Sd"
      },
      "id": "zCc8ZbOge3Sd"
    },
    {
      "cell_type": "code",
      "source": [],
      "metadata": {
        "id": "fyY9nHPAhc2a"
      },
      "id": "fyY9nHPAhc2a",
      "execution_count": null,
      "outputs": []
    }
  ],
  "metadata": {
    "language_info": {
      "name": "python"
    },
    "colab": {
      "provenance": []
    },
    "kernelspec": {
      "name": "python3",
      "display_name": "Python 3"
    }
  },
  "nbformat": 4,
  "nbformat_minor": 5
}