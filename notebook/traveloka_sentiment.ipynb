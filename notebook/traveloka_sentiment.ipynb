{
  "cells": [
    {
      "cell_type": "markdown",
      "source": [
        "# Traveloka Sentiment Analysis\n",
        "\n",
        "---\n",
        "### My Identity\n",
        "- Name : Indra Styawan\n",
        "- Role : Data Science\n",
        "- Domicile : Yogyakarta, Indonesia\n",
        "- Email : indrastyawan0925@gmail.com\n",
        "- Linkedin : www.linkedin.com/in/indrastyawan25\n",
        "\n",
        "---\n",
        "\n",
        "<h1><center> Analysis of App's Review on Traveloka Aplication </h1></center>\n",
        "\n",
        "### Introduction\n",
        "<p align=\"justify\">The application review analysis program in the Traveloka application is a machine learning application that aims to analyze reviews in the Play Store on the Traveloka application. The general purpose of this program is to find out which reviews are positive, negative, or neutral, so that it can be analyzed how the public responds to the Traveloka application that can be used to book flights, hotels, and various travel-related services.\n",
        "\n",
        "### Objective\n",
        "<p align=\"justify\">The process of analyzing and evaluating reviews or feelings expressed by Traveloka application users in their reviews that touch on Traveloka application services on the Play Store."
      ],
      "metadata": {
        "id": "zCc8ZbOge3Sd"
      },
      "id": "zCc8ZbOge3Sd"
    }
  ],
  "metadata": {
    "language_info": {
      "name": "python"
    },
    "colab": {
      "provenance": []
    },
    "kernelspec": {
      "name": "python3",
      "display_name": "Python 3"
    }
  },
  "nbformat": 4,
  "nbformat_minor": 5
}